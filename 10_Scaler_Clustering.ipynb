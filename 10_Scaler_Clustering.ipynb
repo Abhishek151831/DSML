{
 "cells": [
  {
   "cell_type": "markdown",
   "metadata": {},
   "source": [
    "# Case Study : Scaler - Clustering\n",
    "\n",
    "\n",
    "- Scaler is an online tech-versity offering intensive computer science & Data Science courses through live classes delivered by tech leaders and subject matter experts. \n",
    "- The meticulously structured program enhances the skills of software professionals by offering a modern curriculum with exposure to the latest technologies. \n",
    "- It is a product by InterviewBit.\n",
    "\n",
    "\n",
    "### Business Problem \n",
    "\n",
    "- You are working as a data scientist with the analytics vertical of Scaler, focused on profiling the best companies and job positions to work for from the Scaler database. \n",
    "- You are provided with the information for a segment of learners and tasked to cluster them on the basis of their job profile, company, and other features. \n",
    "- Ideally, these clusters should have similar characteristics.\n",
    "\n",
    "\n",
    "### Data Dictionary:\n",
    "\n",
    "- ‘Unnamed 0’ - Index of the dataset\n",
    "- Email_hash - Anonymised Personal Identifiable Information (PII)\n",
    "- Company - Current employer of the learner\n",
    "- orgyear - Employment start date\n",
    "- CTC - Current CTC\n",
    "- Job_position - Job profile in the company\n",
    "- CTC_updated_year: Year in which CTC got updated (Yearly increments, Promotions)"
   ]
  },
  {
   "cell_type": "markdown",
   "metadata": {},
   "source": [
    "# Exploratory data analysis:\n",
    "\n",
    "### Importing required packages:"
   ]
  },
  {
   "cell_type": "code",
   "execution_count": 2,
   "metadata": {},
   "outputs": [],
   "source": [
    "import pandas as pd\n",
    "import numpy as np\n",
    "import matplotlib.pyplot as plt\n",
    "import seaborn as sns\n",
    "sns.set(style='whitegrid')\n",
    "from numpy import NaN, nan, NAN\n",
    "from scipy import stats\n",
    "import statsmodels.api as sm\n",
    "# For pipeline creation\n",
    "from sklearn.pipeline import make_pipeline\n",
    "from sklearn.pipeline import Pipeline\n",
    "# FOr imputation to NAN values.\n",
    "from sklearn.impute import SimpleImputer\n",
    "import re"
   ]
  },
  {
   "cell_type": "markdown",
   "metadata": {},
   "source": [
    "### Loading data into Dataframe:"
   ]
  },
  {
   "cell_type": "code",
   "execution_count": 3,
   "metadata": {},
   "outputs": [],
   "source": [
    "scaler = pd.read_csv('scaler_clustering.txt')"
   ]
  },
  {
   "cell_type": "code",
   "execution_count": 4,
   "metadata": {},
   "outputs": [
    {
     "data": {
      "text/html": [
       "<div>\n",
       "<style scoped>\n",
       "    .dataframe tbody tr th:only-of-type {\n",
       "        vertical-align: middle;\n",
       "    }\n",
       "\n",
       "    .dataframe tbody tr th {\n",
       "        vertical-align: top;\n",
       "    }\n",
       "\n",
       "    .dataframe thead th {\n",
       "        text-align: right;\n",
       "    }\n",
       "</style>\n",
       "<table border=\"1\" class=\"dataframe\">\n",
       "  <thead>\n",
       "    <tr style=\"text-align: right;\">\n",
       "      <th></th>\n",
       "      <th>Unnamed: 0</th>\n",
       "      <th>company_hash</th>\n",
       "      <th>email_hash</th>\n",
       "      <th>orgyear</th>\n",
       "      <th>ctc</th>\n",
       "      <th>job_position</th>\n",
       "      <th>ctc_updated_year</th>\n",
       "    </tr>\n",
       "  </thead>\n",
       "  <tbody>\n",
       "    <tr>\n",
       "      <th>0</th>\n",
       "      <td>0</td>\n",
       "      <td>atrgxnnt xzaxv</td>\n",
       "      <td>6de0a4417d18ab14334c3f43397fc13b30c35149d70c05...</td>\n",
       "      <td>2016.0</td>\n",
       "      <td>1100000</td>\n",
       "      <td>Other</td>\n",
       "      <td>2020.0</td>\n",
       "    </tr>\n",
       "    <tr>\n",
       "      <th>1</th>\n",
       "      <td>1</td>\n",
       "      <td>qtrxvzwt xzegwgbb rxbxnta</td>\n",
       "      <td>b0aaf1ac138b53cb6e039ba2c3d6604a250d02d5145c10...</td>\n",
       "      <td>2018.0</td>\n",
       "      <td>449999</td>\n",
       "      <td>FullStack Engineer</td>\n",
       "      <td>2019.0</td>\n",
       "    </tr>\n",
       "    <tr>\n",
       "      <th>2</th>\n",
       "      <td>2</td>\n",
       "      <td>ojzwnvwnxw vx</td>\n",
       "      <td>4860c670bcd48fb96c02a4b0ae3608ae6fdd98176112e9...</td>\n",
       "      <td>2015.0</td>\n",
       "      <td>2000000</td>\n",
       "      <td>Backend Engineer</td>\n",
       "      <td>2020.0</td>\n",
       "    </tr>\n",
       "    <tr>\n",
       "      <th>3</th>\n",
       "      <td>3</td>\n",
       "      <td>ngpgutaxv</td>\n",
       "      <td>effdede7a2e7c2af664c8a31d9346385016128d66bbc58...</td>\n",
       "      <td>2017.0</td>\n",
       "      <td>700000</td>\n",
       "      <td>Backend Engineer</td>\n",
       "      <td>2019.0</td>\n",
       "    </tr>\n",
       "    <tr>\n",
       "      <th>4</th>\n",
       "      <td>4</td>\n",
       "      <td>qxen sqghu</td>\n",
       "      <td>6ff54e709262f55cb999a1c1db8436cb2055d8f79ab520...</td>\n",
       "      <td>2017.0</td>\n",
       "      <td>1400000</td>\n",
       "      <td>FullStack Engineer</td>\n",
       "      <td>2019.0</td>\n",
       "    </tr>\n",
       "  </tbody>\n",
       "</table>\n",
       "</div>"
      ],
      "text/plain": [
       "   Unnamed: 0               company_hash  \\\n",
       "0           0             atrgxnnt xzaxv   \n",
       "1           1  qtrxvzwt xzegwgbb rxbxnta   \n",
       "2           2              ojzwnvwnxw vx   \n",
       "3           3                  ngpgutaxv   \n",
       "4           4                 qxen sqghu   \n",
       "\n",
       "                                          email_hash  orgyear      ctc  \\\n",
       "0  6de0a4417d18ab14334c3f43397fc13b30c35149d70c05...   2016.0  1100000   \n",
       "1  b0aaf1ac138b53cb6e039ba2c3d6604a250d02d5145c10...   2018.0   449999   \n",
       "2  4860c670bcd48fb96c02a4b0ae3608ae6fdd98176112e9...   2015.0  2000000   \n",
       "3  effdede7a2e7c2af664c8a31d9346385016128d66bbc58...   2017.0   700000   \n",
       "4  6ff54e709262f55cb999a1c1db8436cb2055d8f79ab520...   2017.0  1400000   \n",
       "\n",
       "         job_position  ctc_updated_year  \n",
       "0               Other            2020.0  \n",
       "1  FullStack Engineer            2019.0  \n",
       "2    Backend Engineer            2020.0  \n",
       "3    Backend Engineer            2019.0  \n",
       "4  FullStack Engineer            2019.0  "
      ]
     },
     "execution_count": 4,
     "metadata": {},
     "output_type": "execute_result"
    }
   ],
   "source": [
    "scaler.head()"
   ]
  },
  {
   "cell_type": "markdown",
   "metadata": {},
   "source": [
    "### Identification of variables and data types:"
   ]
  },
  {
   "cell_type": "code",
   "execution_count": 5,
   "metadata": {},
   "outputs": [
    {
     "data": {
      "text/plain": [
       "(205843, 7)"
      ]
     },
     "execution_count": 5,
     "metadata": {},
     "output_type": "execute_result"
    }
   ],
   "source": [
    "scaler.shape"
   ]
  },
  {
   "cell_type": "code",
   "execution_count": 6,
   "metadata": {},
   "outputs": [
    {
     "name": "stdout",
     "output_type": "stream",
     "text": [
      "<class 'pandas.core.frame.DataFrame'>\n",
      "RangeIndex: 205843 entries, 0 to 205842\n",
      "Data columns (total 7 columns):\n",
      " #   Column            Non-Null Count   Dtype  \n",
      "---  ------            --------------   -----  \n",
      " 0   Unnamed: 0        205843 non-null  int64  \n",
      " 1   company_hash      205799 non-null  object \n",
      " 2   email_hash        205843 non-null  object \n",
      " 3   orgyear           205757 non-null  float64\n",
      " 4   ctc               205843 non-null  int64  \n",
      " 5   job_position      153281 non-null  object \n",
      " 6   ctc_updated_year  205843 non-null  float64\n",
      "dtypes: float64(2), int64(2), object(3)\n",
      "memory usage: 11.0+ MB\n"
     ]
    }
   ],
   "source": [
    "scaler.info()"
   ]
  },
  {
   "cell_type": "code",
   "execution_count": 7,
   "metadata": {},
   "outputs": [
    {
     "name": "stdout",
     "output_type": "stream",
     "text": [
      "<class 'pandas.core.frame.DataFrame'>\n",
      "RangeIndex: 205843 entries, 0 to 205842\n",
      "Data columns (total 7 columns):\n",
      " #   Column            Non-Null Count   Dtype   \n",
      "---  ------            --------------   -----   \n",
      " 0   Unnamed: 0        205843 non-null  int64   \n",
      " 1   company_hash      205799 non-null  category\n",
      " 2   email_hash        205843 non-null  category\n",
      " 3   orgyear           205757 non-null  float64 \n",
      " 4   ctc               205843 non-null  int64   \n",
      " 5   job_position      153281 non-null  category\n",
      " 6   ctc_updated_year  205843 non-null  float64 \n",
      "dtypes: category(3), float64(2), int64(2)\n",
      "memory usage: 14.8 MB\n"
     ]
    }
   ],
   "source": [
    "cols = ['company_hash', 'email_hash', 'job_position']\n",
    "for i in cols:\n",
    "    scaler[i] = scaler[i].astype(\"category\")\n",
    "scaler.info()"
   ]
  },
  {
   "cell_type": "code",
   "execution_count": 8,
   "metadata": {},
   "outputs": [],
   "source": [
    "def features(df):\n",
    " \n",
    " print(f\"Columns with category datatypes (Categorical Features) are : \\\n",
    " {list(df.select_dtypes('category').columns)}\")\n",
    " print('-'*125)\n",
    " print('-'*125)\n",
    " print(f\"Columns with integer and float datatypes (Numerical Features) are: \\\n",
    " {list(df.select_dtypes(['int64','float64']).columns)}\")\n"
   ]
  },
  {
   "cell_type": "code",
   "execution_count": 9,
   "metadata": {},
   "outputs": [
    {
     "name": "stdout",
     "output_type": "stream",
     "text": [
      "Columns with category datatypes (Categorical Features) are :  ['company_hash', 'email_hash', 'job_position']\n",
      "-----------------------------------------------------------------------------------------------------------------------------\n",
      "-----------------------------------------------------------------------------------------------------------------------------\n",
      "Columns with integer and float datatypes (Numerical Features) are:  ['Unnamed: 0', 'orgyear', 'ctc', 'ctc_updated_year']\n"
     ]
    }
   ],
   "source": [
    "features(scaler)"
   ]
  },
  {
   "cell_type": "code",
   "execution_count": 10,
   "metadata": {},
   "outputs": [
    {
     "data": {
      "text/plain": [
       "Unnamed: 0          205843\n",
       "company_hash         37299\n",
       "email_hash          153443\n",
       "orgyear                 77\n",
       "ctc                   3360\n",
       "job_position          1017\n",
       "ctc_updated_year         7\n",
       "dtype: int64"
      ]
     },
     "execution_count": 10,
     "metadata": {},
     "output_type": "execute_result"
    }
   ],
   "source": [
    "scaler.nunique()"
   ]
  },
  {
   "cell_type": "code",
   "execution_count": 11,
   "metadata": {},
   "outputs": [
    {
     "data": {
      "text/plain": [
       "['atrgxnnt xzaxv', 'qtrxvzwt xzegwgbb rxbxnta', 'ojzwnvwnxw vx', 'ngpgutaxv', 'qxen sqghu', ..., 'yjutq nqvwp', 'yga xzzgcvnxgz rvm ucn rna', 'ztdnowb xzwqtee', 'mrht onvnt axsxnvr', 'bvptbjnqxu td vbvkgz']\n",
       "Length: 37300\n",
       "Categories (37299, object): ['0', '0000', '01 ojztqsj', '05mz exzytvrny uqxcvnt rxbxnta', ..., 'zz', 'zzb ztdnstz vacxogqj ucn rna', 'zzgato', 'zzzbzb']"
      ]
     },
     "execution_count": 11,
     "metadata": {},
     "output_type": "execute_result"
    }
   ],
   "source": [
    "scaler['company_hash'].unique()"
   ]
  },
  {
   "cell_type": "code",
   "execution_count": 12,
   "metadata": {},
   "outputs": [
    {
     "data": {
      "text/plain": [
       "['6de0a4417d18ab14334c3f43397fc13b30c35149d70c0..., 'b0aaf1ac138b53cb6e039ba2c3d6604a250d02d5145c1..., '4860c670bcd48fb96c02a4b0ae3608ae6fdd98176112e..., 'effdede7a2e7c2af664c8a31d9346385016128d66bbc5..., '6ff54e709262f55cb999a1c1db8436cb2055d8f79ab52..., ..., '53442a1663ccfdbd473055fee4e4ac9f4bb398dc44624..., '7f7292ffad724ebbe9ca860f515245368d714c84705b4..., 'cb25cc7304e9a24facda7f5567c7922ffc48e3d5d6018..., 'fb46a1a2752f5f652ce634f6178d0578ef6995ee59f6c..., '0bcfc1d05f2e8dc4147743a1313aa70a119b41b30d4a1...]\n",
       "Length: 153443\n",
       "Categories (153443, object): ['00003288036a44374976948c327f246fdbdf077854690..., '0000aaa0e6b61f7636af1954b43d294484cd151c9b3cf..., '0000d58fbc18012bf6fa2605a7b0357d126ee69bc4103..., '000120d0c8aa304fcf12ab4b85e21feb80a342cfea03d..., ..., 'fffcf97db1e9c13898f4eb4cd1c2fe862358480e10453..., 'fffe7552892f8ca5fb8647d49ca805b72ea0e9538b6b0..., 'ffff49f963e4493d8bbc7cc15365423d84a767259f720..., 'ffffa3eb3575f43b86d986911463dce7bcadcea227e5a...]"
      ]
     },
     "execution_count": 12,
     "metadata": {},
     "output_type": "execute_result"
    }
   ],
   "source": [
    "scaler['email_hash'].unique()"
   ]
  },
  {
   "cell_type": "code",
   "execution_count": 13,
   "metadata": {},
   "outputs": [
    {
     "data": {
      "text/html": [
       "<div>\n",
       "<style scoped>\n",
       "    .dataframe tbody tr th:only-of-type {\n",
       "        vertical-align: middle;\n",
       "    }\n",
       "\n",
       "    .dataframe tbody tr th {\n",
       "        vertical-align: top;\n",
       "    }\n",
       "\n",
       "    .dataframe thead th {\n",
       "        text-align: right;\n",
       "    }\n",
       "</style>\n",
       "<table border=\"1\" class=\"dataframe\">\n",
       "  <thead>\n",
       "    <tr style=\"text-align: right;\">\n",
       "      <th></th>\n",
       "      <th>company_hash</th>\n",
       "      <th>email_hash</th>\n",
       "      <th>orgyear</th>\n",
       "      <th>ctc</th>\n",
       "      <th>job_position</th>\n",
       "      <th>ctc_updated_year</th>\n",
       "    </tr>\n",
       "  </thead>\n",
       "  <tbody>\n",
       "    <tr>\n",
       "      <th>0</th>\n",
       "      <td>atrgxnnt xzaxv</td>\n",
       "      <td>6de0a4417d18ab14334c3f43397fc13b30c35149d70c05...</td>\n",
       "      <td>2016.0</td>\n",
       "      <td>1100000</td>\n",
       "      <td>Other</td>\n",
       "      <td>2020.0</td>\n",
       "    </tr>\n",
       "    <tr>\n",
       "      <th>1</th>\n",
       "      <td>qtrxvzwt xzegwgbb rxbxnta</td>\n",
       "      <td>b0aaf1ac138b53cb6e039ba2c3d6604a250d02d5145c10...</td>\n",
       "      <td>2018.0</td>\n",
       "      <td>449999</td>\n",
       "      <td>FullStack Engineer</td>\n",
       "      <td>2019.0</td>\n",
       "    </tr>\n",
       "    <tr>\n",
       "      <th>2</th>\n",
       "      <td>ojzwnvwnxw vx</td>\n",
       "      <td>4860c670bcd48fb96c02a4b0ae3608ae6fdd98176112e9...</td>\n",
       "      <td>2015.0</td>\n",
       "      <td>2000000</td>\n",
       "      <td>Backend Engineer</td>\n",
       "      <td>2020.0</td>\n",
       "    </tr>\n",
       "    <tr>\n",
       "      <th>3</th>\n",
       "      <td>ngpgutaxv</td>\n",
       "      <td>effdede7a2e7c2af664c8a31d9346385016128d66bbc58...</td>\n",
       "      <td>2017.0</td>\n",
       "      <td>700000</td>\n",
       "      <td>Backend Engineer</td>\n",
       "      <td>2019.0</td>\n",
       "    </tr>\n",
       "    <tr>\n",
       "      <th>4</th>\n",
       "      <td>qxen sqghu</td>\n",
       "      <td>6ff54e709262f55cb999a1c1db8436cb2055d8f79ab520...</td>\n",
       "      <td>2017.0</td>\n",
       "      <td>1400000</td>\n",
       "      <td>FullStack Engineer</td>\n",
       "      <td>2019.0</td>\n",
       "    </tr>\n",
       "  </tbody>\n",
       "</table>\n",
       "</div>"
      ],
      "text/plain": [
       "                company_hash  \\\n",
       "0             atrgxnnt xzaxv   \n",
       "1  qtrxvzwt xzegwgbb rxbxnta   \n",
       "2              ojzwnvwnxw vx   \n",
       "3                  ngpgutaxv   \n",
       "4                 qxen sqghu   \n",
       "\n",
       "                                          email_hash  orgyear      ctc  \\\n",
       "0  6de0a4417d18ab14334c3f43397fc13b30c35149d70c05...   2016.0  1100000   \n",
       "1  b0aaf1ac138b53cb6e039ba2c3d6604a250d02d5145c10...   2018.0   449999   \n",
       "2  4860c670bcd48fb96c02a4b0ae3608ae6fdd98176112e9...   2015.0  2000000   \n",
       "3  effdede7a2e7c2af664c8a31d9346385016128d66bbc58...   2017.0   700000   \n",
       "4  6ff54e709262f55cb999a1c1db8436cb2055d8f79ab520...   2017.0  1400000   \n",
       "\n",
       "         job_position  ctc_updated_year  \n",
       "0               Other            2020.0  \n",
       "1  FullStack Engineer            2019.0  \n",
       "2    Backend Engineer            2020.0  \n",
       "3    Backend Engineer            2019.0  \n",
       "4  FullStack Engineer            2019.0  "
      ]
     },
     "execution_count": 13,
     "metadata": {},
     "output_type": "execute_result"
    }
   ],
   "source": [
    "scaler=scaler.drop('Unnamed: 0',axis =1)\n",
    "scaler.head()"
   ]
  },
  {
   "cell_type": "markdown",
   "metadata": {},
   "source": [
    "### Analysing the basic metrics:"
   ]
  },
  {
   "cell_type": "code",
   "execution_count": 14,
   "metadata": {},
   "outputs": [
    {
     "data": {
      "text/html": [
       "<div>\n",
       "<style scoped>\n",
       "    .dataframe tbody tr th:only-of-type {\n",
       "        vertical-align: middle;\n",
       "    }\n",
       "\n",
       "    .dataframe tbody tr th {\n",
       "        vertical-align: top;\n",
       "    }\n",
       "\n",
       "    .dataframe thead th {\n",
       "        text-align: right;\n",
       "    }\n",
       "</style>\n",
       "<table border=\"1\" class=\"dataframe\">\n",
       "  <thead>\n",
       "    <tr style=\"text-align: right;\">\n",
       "      <th></th>\n",
       "      <th>count</th>\n",
       "      <th>mean</th>\n",
       "      <th>std</th>\n",
       "      <th>min</th>\n",
       "      <th>25%</th>\n",
       "      <th>50%</th>\n",
       "      <th>75%</th>\n",
       "      <th>max</th>\n",
       "    </tr>\n",
       "  </thead>\n",
       "  <tbody>\n",
       "    <tr>\n",
       "      <th>orgyear</th>\n",
       "      <td>205757.0</td>\n",
       "      <td>2.014883e+03</td>\n",
       "      <td>6.357112e+01</td>\n",
       "      <td>0.0</td>\n",
       "      <td>2013.0</td>\n",
       "      <td>2016.0</td>\n",
       "      <td>2018.0</td>\n",
       "      <td>2.016500e+04</td>\n",
       "    </tr>\n",
       "    <tr>\n",
       "      <th>ctc</th>\n",
       "      <td>205843.0</td>\n",
       "      <td>2.271685e+06</td>\n",
       "      <td>1.180091e+07</td>\n",
       "      <td>2.0</td>\n",
       "      <td>530000.0</td>\n",
       "      <td>950000.0</td>\n",
       "      <td>1700000.0</td>\n",
       "      <td>1.000150e+09</td>\n",
       "    </tr>\n",
       "    <tr>\n",
       "      <th>ctc_updated_year</th>\n",
       "      <td>205843.0</td>\n",
       "      <td>2.019628e+03</td>\n",
       "      <td>1.325104e+00</td>\n",
       "      <td>2015.0</td>\n",
       "      <td>2019.0</td>\n",
       "      <td>2020.0</td>\n",
       "      <td>2021.0</td>\n",
       "      <td>2.021000e+03</td>\n",
       "    </tr>\n",
       "  </tbody>\n",
       "</table>\n",
       "</div>"
      ],
      "text/plain": [
       "                     count          mean           std     min       25%  \\\n",
       "orgyear           205757.0  2.014883e+03  6.357112e+01     0.0    2013.0   \n",
       "ctc               205843.0  2.271685e+06  1.180091e+07     2.0  530000.0   \n",
       "ctc_updated_year  205843.0  2.019628e+03  1.325104e+00  2015.0    2019.0   \n",
       "\n",
       "                       50%        75%           max  \n",
       "orgyear             2016.0     2018.0  2.016500e+04  \n",
       "ctc               950000.0  1700000.0  1.000150e+09  \n",
       "ctc_updated_year    2020.0     2021.0  2.021000e+03  "
      ]
     },
     "execution_count": 14,
     "metadata": {},
     "output_type": "execute_result"
    }
   ],
   "source": [
    "scaler.describe(include=[np.number]).transpose()"
   ]
  },
  {
   "cell_type": "code",
   "execution_count": 15,
   "metadata": {},
   "outputs": [
    {
     "data": {
      "text/html": [
       "<div>\n",
       "<style scoped>\n",
       "    .dataframe tbody tr th:only-of-type {\n",
       "        vertical-align: middle;\n",
       "    }\n",
       "\n",
       "    .dataframe tbody tr th {\n",
       "        vertical-align: top;\n",
       "    }\n",
       "\n",
       "    .dataframe thead th {\n",
       "        text-align: right;\n",
       "    }\n",
       "</style>\n",
       "<table border=\"1\" class=\"dataframe\">\n",
       "  <thead>\n",
       "    <tr style=\"text-align: right;\">\n",
       "      <th></th>\n",
       "      <th>count</th>\n",
       "      <th>unique</th>\n",
       "      <th>top</th>\n",
       "      <th>freq</th>\n",
       "    </tr>\n",
       "  </thead>\n",
       "  <tbody>\n",
       "    <tr>\n",
       "      <th>company_hash</th>\n",
       "      <td>205799</td>\n",
       "      <td>37299</td>\n",
       "      <td>nvnv wgzohrnvzwj otqcxwto</td>\n",
       "      <td>8337</td>\n",
       "    </tr>\n",
       "    <tr>\n",
       "      <th>email_hash</th>\n",
       "      <td>205843</td>\n",
       "      <td>153443</td>\n",
       "      <td>bbace3cc586400bbc65765bc6a16b77d8913836cfc98b7...</td>\n",
       "      <td>10</td>\n",
       "    </tr>\n",
       "    <tr>\n",
       "      <th>job_position</th>\n",
       "      <td>153281</td>\n",
       "      <td>1017</td>\n",
       "      <td>Backend Engineer</td>\n",
       "      <td>43554</td>\n",
       "    </tr>\n",
       "  </tbody>\n",
       "</table>\n",
       "</div>"
      ],
      "text/plain": [
       "               count  unique  \\\n",
       "company_hash  205799   37299   \n",
       "email_hash    205843  153443   \n",
       "job_position  153281    1017   \n",
       "\n",
       "                                                            top   freq  \n",
       "company_hash                          nvnv wgzohrnvzwj otqcxwto   8337  \n",
       "email_hash    bbace3cc586400bbc65765bc6a16b77d8913836cfc98b7...     10  \n",
       "job_position                                   Backend Engineer  43554  "
      ]
     },
     "execution_count": 15,
     "metadata": {},
     "output_type": "execute_result"
    }
   ],
   "source": [
    "scaler.describe(include=['category']).transpose()"
   ]
  },
  {
   "cell_type": "markdown",
   "metadata": {},
   "source": [
    "### Missing values and Outlier Treatment:"
   ]
  },
  {
   "cell_type": "code",
   "execution_count": 16,
   "metadata": {},
   "outputs": [],
   "source": [
    "# Missing values:\n",
    "\n",
    "def missingValue(df):\n",
    "    #Identifying Missing data.\n",
    "    total_null = df.isnull().sum().sort_values(ascending = False)\n",
    "    percent = ((df.isnull().sum()/len(df))*100).sort_values(ascending = False)\n",
    "    print(f\"Total records in our data =  {df.shape[0]} where missing values are as follows:\")\n",
    "\n",
    "    missing_data = pd.concat([total_null,percent.round(2)],axis=1,keys=['Total Missing','In Percent'])\n",
    "    return missing_data"
   ]
  },
  {
   "cell_type": "code",
   "execution_count": 17,
   "metadata": {},
   "outputs": [
    {
     "name": "stdout",
     "output_type": "stream",
     "text": [
      "Total records in our data =  205843 where missing values are as follows:\n"
     ]
    },
    {
     "data": {
      "text/html": [
       "<div>\n",
       "<style scoped>\n",
       "    .dataframe tbody tr th:only-of-type {\n",
       "        vertical-align: middle;\n",
       "    }\n",
       "\n",
       "    .dataframe tbody tr th {\n",
       "        vertical-align: top;\n",
       "    }\n",
       "\n",
       "    .dataframe thead th {\n",
       "        text-align: right;\n",
       "    }\n",
       "</style>\n",
       "<table border=\"1\" class=\"dataframe\">\n",
       "  <thead>\n",
       "    <tr style=\"text-align: right;\">\n",
       "      <th></th>\n",
       "      <th>Total Missing</th>\n",
       "      <th>In Percent</th>\n",
       "    </tr>\n",
       "  </thead>\n",
       "  <tbody>\n",
       "    <tr>\n",
       "      <th>job_position</th>\n",
       "      <td>52562</td>\n",
       "      <td>25.53</td>\n",
       "    </tr>\n",
       "    <tr>\n",
       "      <th>orgyear</th>\n",
       "      <td>86</td>\n",
       "      <td>0.04</td>\n",
       "    </tr>\n",
       "    <tr>\n",
       "      <th>company_hash</th>\n",
       "      <td>44</td>\n",
       "      <td>0.02</td>\n",
       "    </tr>\n",
       "  </tbody>\n",
       "</table>\n",
       "</div>"
      ],
      "text/plain": [
       "              Total Missing  In Percent\n",
       "job_position          52562       25.53\n",
       "orgyear                  86        0.04\n",
       "company_hash             44        0.02"
      ]
     },
     "execution_count": 17,
     "metadata": {},
     "output_type": "execute_result"
    }
   ],
   "source": [
    "missing = missingValue(scaler)\n",
    "missing[missing['Total Missing'] > 0]"
   ]
  },
  {
   "cell_type": "code",
   "execution_count": 18,
   "metadata": {},
   "outputs": [
    {
     "name": "stdout",
     "output_type": "stream",
     "text": [
      "Total records in our data =  205843 where missing values are as follows:\n"
     ]
    },
    {
     "data": {
      "text/html": [
       "<div>\n",
       "<style scoped>\n",
       "    .dataframe tbody tr th:only-of-type {\n",
       "        vertical-align: middle;\n",
       "    }\n",
       "\n",
       "    .dataframe tbody tr th {\n",
       "        vertical-align: top;\n",
       "    }\n",
       "\n",
       "    .dataframe thead th {\n",
       "        text-align: right;\n",
       "    }\n",
       "</style>\n",
       "<table border=\"1\" class=\"dataframe\">\n",
       "  <thead>\n",
       "    <tr style=\"text-align: right;\">\n",
       "      <th></th>\n",
       "      <th>Total Missing</th>\n",
       "      <th>In Percent</th>\n",
       "    </tr>\n",
       "  </thead>\n",
       "  <tbody>\n",
       "    <tr>\n",
       "      <th>job_position</th>\n",
       "      <td>52562</td>\n",
       "      <td>25.53</td>\n",
       "    </tr>\n",
       "    <tr>\n",
       "      <th>orgyear</th>\n",
       "      <td>86</td>\n",
       "      <td>0.04</td>\n",
       "    </tr>\n",
       "    <tr>\n",
       "      <th>company_hash</th>\n",
       "      <td>44</td>\n",
       "      <td>0.02</td>\n",
       "    </tr>\n",
       "    <tr>\n",
       "      <th>email_hash</th>\n",
       "      <td>0</td>\n",
       "      <td>0.00</td>\n",
       "    </tr>\n",
       "    <tr>\n",
       "      <th>ctc</th>\n",
       "      <td>0</td>\n",
       "      <td>0.00</td>\n",
       "    </tr>\n",
       "    <tr>\n",
       "      <th>ctc_updated_year</th>\n",
       "      <td>0</td>\n",
       "      <td>0.00</td>\n",
       "    </tr>\n",
       "  </tbody>\n",
       "</table>\n",
       "</div>"
      ],
      "text/plain": [
       "                  Total Missing  In Percent\n",
       "job_position              52562       25.53\n",
       "orgyear                      86        0.04\n",
       "company_hash                 44        0.02\n",
       "email_hash                    0        0.00\n",
       "ctc                           0        0.00\n",
       "ctc_updated_year              0        0.00"
      ]
     },
     "execution_count": 18,
     "metadata": {},
     "output_type": "execute_result"
    }
   ],
   "source": [
    "missingValue(scaler)"
   ]
  },
  {
   "cell_type": "markdown",
   "metadata": {},
   "source": [
    "### Observations:\n",
    "\n",
    "- 1 numerical features and 2 categorical features are having missing values.\n",
    "\n",
    "\n",
    "### Feature Engineering"
   ]
  },
  {
   "cell_type": "code",
   "execution_count": 19,
   "metadata": {},
   "outputs": [
    {
     "data": {
      "text/plain": [
       "0         2016.0\n",
       "1         2018.0\n",
       "2         2015.0\n",
       "3         2017.0\n",
       "4         2017.0\n",
       "           ...  \n",
       "205838    2008.0\n",
       "205839    2017.0\n",
       "205840    2021.0\n",
       "205841    2019.0\n",
       "205842    2014.0\n",
       "Name: orgyear, Length: 205843, dtype: float64"
      ]
     },
     "execution_count": 19,
     "metadata": {},
     "output_type": "execute_result"
    }
   ],
   "source": [
    "(scaler['orgyear'])"
   ]
  },
  {
   "cell_type": "code",
   "execution_count": 20,
   "metadata": {},
   "outputs": [
    {
     "data": {
      "text/plain": [
       "0         2020.0\n",
       "1         2019.0\n",
       "2         2020.0\n",
       "3         2019.0\n",
       "4         2019.0\n",
       "           ...  \n",
       "205838    2019.0\n",
       "205839    2020.0\n",
       "205840    2021.0\n",
       "205841    2019.0\n",
       "205842    2016.0\n",
       "Name: ctc_updated_year, Length: 205843, dtype: float64"
      ]
     },
     "execution_count": 20,
     "metadata": {},
     "output_type": "execute_result"
    }
   ],
   "source": [
    "(scaler['ctc_updated_year'])"
   ]
  },
  {
   "cell_type": "markdown",
   "metadata": {},
   "source": [
    "### Creating ‘Years of Experience’ column by subtracting orgyear from current year"
   ]
  },
  {
   "cell_type": "code",
   "execution_count": 21,
   "metadata": {},
   "outputs": [
    {
     "data": {
      "text/html": [
       "<div>\n",
       "<style scoped>\n",
       "    .dataframe tbody tr th:only-of-type {\n",
       "        vertical-align: middle;\n",
       "    }\n",
       "\n",
       "    .dataframe tbody tr th {\n",
       "        vertical-align: top;\n",
       "    }\n",
       "\n",
       "    .dataframe thead th {\n",
       "        text-align: right;\n",
       "    }\n",
       "</style>\n",
       "<table border=\"1\" class=\"dataframe\">\n",
       "  <thead>\n",
       "    <tr style=\"text-align: right;\">\n",
       "      <th></th>\n",
       "      <th>company_hash</th>\n",
       "      <th>email_hash</th>\n",
       "      <th>orgyear</th>\n",
       "      <th>ctc</th>\n",
       "      <th>job_position</th>\n",
       "      <th>ctc_updated_year</th>\n",
       "      <th>Years of Experience</th>\n",
       "    </tr>\n",
       "  </thead>\n",
       "  <tbody>\n",
       "    <tr>\n",
       "      <th>0</th>\n",
       "      <td>atrgxnnt xzaxv</td>\n",
       "      <td>6de0a4417d18ab14334c3f43397fc13b30c35149d70c05...</td>\n",
       "      <td>2016.0</td>\n",
       "      <td>1100000</td>\n",
       "      <td>Other</td>\n",
       "      <td>2020.0</td>\n",
       "      <td>4.0</td>\n",
       "    </tr>\n",
       "    <tr>\n",
       "      <th>1</th>\n",
       "      <td>qtrxvzwt xzegwgbb rxbxnta</td>\n",
       "      <td>b0aaf1ac138b53cb6e039ba2c3d6604a250d02d5145c10...</td>\n",
       "      <td>2018.0</td>\n",
       "      <td>449999</td>\n",
       "      <td>FullStack Engineer</td>\n",
       "      <td>2019.0</td>\n",
       "      <td>1.0</td>\n",
       "    </tr>\n",
       "    <tr>\n",
       "      <th>2</th>\n",
       "      <td>ojzwnvwnxw vx</td>\n",
       "      <td>4860c670bcd48fb96c02a4b0ae3608ae6fdd98176112e9...</td>\n",
       "      <td>2015.0</td>\n",
       "      <td>2000000</td>\n",
       "      <td>Backend Engineer</td>\n",
       "      <td>2020.0</td>\n",
       "      <td>5.0</td>\n",
       "    </tr>\n",
       "    <tr>\n",
       "      <th>3</th>\n",
       "      <td>ngpgutaxv</td>\n",
       "      <td>effdede7a2e7c2af664c8a31d9346385016128d66bbc58...</td>\n",
       "      <td>2017.0</td>\n",
       "      <td>700000</td>\n",
       "      <td>Backend Engineer</td>\n",
       "      <td>2019.0</td>\n",
       "      <td>2.0</td>\n",
       "    </tr>\n",
       "    <tr>\n",
       "      <th>4</th>\n",
       "      <td>qxen sqghu</td>\n",
       "      <td>6ff54e709262f55cb999a1c1db8436cb2055d8f79ab520...</td>\n",
       "      <td>2017.0</td>\n",
       "      <td>1400000</td>\n",
       "      <td>FullStack Engineer</td>\n",
       "      <td>2019.0</td>\n",
       "      <td>2.0</td>\n",
       "    </tr>\n",
       "  </tbody>\n",
       "</table>\n",
       "</div>"
      ],
      "text/plain": [
       "                company_hash  \\\n",
       "0             atrgxnnt xzaxv   \n",
       "1  qtrxvzwt xzegwgbb rxbxnta   \n",
       "2              ojzwnvwnxw vx   \n",
       "3                  ngpgutaxv   \n",
       "4                 qxen sqghu   \n",
       "\n",
       "                                          email_hash  orgyear      ctc  \\\n",
       "0  6de0a4417d18ab14334c3f43397fc13b30c35149d70c05...   2016.0  1100000   \n",
       "1  b0aaf1ac138b53cb6e039ba2c3d6604a250d02d5145c10...   2018.0   449999   \n",
       "2  4860c670bcd48fb96c02a4b0ae3608ae6fdd98176112e9...   2015.0  2000000   \n",
       "3  effdede7a2e7c2af664c8a31d9346385016128d66bbc58...   2017.0   700000   \n",
       "4  6ff54e709262f55cb999a1c1db8436cb2055d8f79ab520...   2017.0  1400000   \n",
       "\n",
       "         job_position  ctc_updated_year  Years of Experience  \n",
       "0               Other            2020.0                  4.0  \n",
       "1  FullStack Engineer            2019.0                  1.0  \n",
       "2    Backend Engineer            2020.0                  5.0  \n",
       "3    Backend Engineer            2019.0                  2.0  \n",
       "4  FullStack Engineer            2019.0                  2.0  "
      ]
     },
     "execution_count": 21,
     "metadata": {},
     "output_type": "execute_result"
    }
   ],
   "source": [
    "scaler['Years of Experience'] = scaler['ctc_updated_year']-scaler['orgyear']\n",
    "scaler.head()"
   ]
  },
  {
   "cell_type": "markdown",
   "metadata": {},
   "source": [
    "## Univariate Analysis:"
   ]
  },
  {
   "cell_type": "code",
   "execution_count": 22,
   "metadata": {},
   "outputs": [],
   "source": [
    "def numerical_feat(df,colname,nrows=2,mcols=2,width=15,height=15):\n",
    "    fig , ax = plt.subplots(nrows,mcols,figsize=(width,height))\n",
    "    fig.set_facecolor(\"lightgrey\")\n",
    "    rows = 0\n",
    "    for var in colname:        \n",
    "        ax[rows][0].set_title(\"Boxplot for Outlier Detection \", fontweight=\"bold\")\n",
    "        plt.ylabel(var, fontsize=12)\n",
    "        sns.boxplot(y = df[var],color='crimson',ax=ax[rows][0])\n",
    "        \n",
    "        # plt.subplot(nrows,mcols,pltcounter+1)\n",
    "        sns.distplot(df[var],color='purple',ax=ax[rows][1])\n",
    "        ax[rows][1].axvline(df[var].mean(), color='r', linestyle='--', label=\"Mean\")\n",
    "        ax[rows][1].axvline(df[var].median(), color='m', linestyle='-', label=\"Median\")\n",
    "        ax[rows][1].axvline(df[var].mode()[0], color='royalblue', linestyle='-', label=\"Mode\")\n",
    "        ax[rows][1].set_title(\"Outlier Detection \", fontweight=\"bold\")\n",
    "        ax[rows][1].legend({'Mean':df[var].mean(),'Median':df[var].median(),'Mode':df[var].mode()})\n",
    "        rows += 1\n",
    "    plt.show()"
   ]
  },
  {
   "cell_type": "code",
   "execution_count": 23,
   "metadata": {},
   "outputs": [],
   "source": [
    "numerical_cols = ['orgyear', 'ctc', 'ctc_updated_year']"
   ]
  },
  {
   "cell_type": "code",
   "execution_count": 24,
   "metadata": {},
   "outputs": [
    {
     "name": "stderr",
     "output_type": "stream",
     "text": [
      "C:\\Users\\hp\\anaconda3\\lib\\site-packages\\seaborn\\distributions.py:2619: FutureWarning: `distplot` is a deprecated function and will be removed in a future version. Please adapt your code to use either `displot` (a figure-level function with similar flexibility) or `histplot` (an axes-level function for histograms).\n",
      "  warnings.warn(msg, FutureWarning)\n",
      "C:\\Users\\hp\\anaconda3\\lib\\site-packages\\seaborn\\distributions.py:2619: FutureWarning: `distplot` is a deprecated function and will be removed in a future version. Please adapt your code to use either `displot` (a figure-level function with similar flexibility) or `histplot` (an axes-level function for histograms).\n",
      "  warnings.warn(msg, FutureWarning)\n",
      "C:\\Users\\hp\\anaconda3\\lib\\site-packages\\seaborn\\distributions.py:2619: FutureWarning: `distplot` is a deprecated function and will be removed in a future version. Please adapt your code to use either `displot` (a figure-level function with similar flexibility) or `histplot` (an axes-level function for histograms).\n",
      "  warnings.warn(msg, FutureWarning)\n"
     ]
    },
    {
     "data": {
      "image/png": "[encoded data removed]",
      "text/plain": [
       "<Figure size 1080x1080 with 6 Axes>"
      ]
     },
     "metadata": {},
     "output_type": "display_data"
    }
   ],
   "source": [
    "numerical_feat(scaler,numerical_cols,len(numerical_cols),2,15,15)"
   ]
  },
  {
   "cell_type": "code",
   "execution_count": 25,
   "metadata": {},
   "outputs": [],
   "source": [
    "col_data = ['company_hash', 'email_hash', 'job_position']"
   ]
  },
  {
   "cell_type": "code",
   "execution_count": null,
   "metadata": {},
   "outputs": [],
   "source": [
    "col_data.value_counts()"
   ]
  },
  {
   "cell_type": "code",
   "execution_count": 44,
   "metadata": {},
   "outputs": [],
   "source": [
    "#EDA on Univariate Categorical variables\n",
    "\n",
    "def cat_feat(col_data):\n",
    "    fig,ax=plt.subplots(nrows=1,ncols=2,figsize=(12,5))\n",
    "    #fig.suptitle(col_data.name+' wise ',fontsize=15)\n",
    "    sns.countplot(col_data,ax=ax[0])\n",
    "    #col_data.value_counts().plot.pie(autopct='%1.1f%%',ax=ax[1],shadow=True)\n",
    "    plt.tight_layout()"
   ]
  },
  {
   "cell_type": "code",
   "execution_count": 45,
   "metadata": {},
   "outputs": [
    {
     "name": "stderr",
     "output_type": "stream",
     "text": [
      "C:\\Users\\hp\\anaconda3\\lib\\site-packages\\seaborn\\_decorators.py:36: FutureWarning: Pass the following variable as a keyword arg: x. From version 0.12, the only valid positional argument will be `data`, and passing other arguments without an explicit keyword will result in an error or misinterpretation.\n",
      "  warnings.warn(\n"
     ]
    },
    {
     "data": {
      "image/png": "[encoded data removed]",
      "text/plain": [
       "<Figure size 864x360 with 2 Axes>"
      ]
     },
     "metadata": {
      "needs_background": "light"
     },
     "output_type": "display_data"
    }
   ],
   "source": [
    "cat_feat(col_data)"
   ]
  },
  {
   "cell_type": "code",
   "execution_count": 27,
   "metadata": {},
   "outputs": [
    {
     "name": "stdout",
     "output_type": "stream",
     "text": [
      " Unique values in job_position are ['Other', 'FullStack Engineer', 'Backend Engineer', NaN, 'iOS Engineer', ..., 'Applied Scientist', 'Member Technical Staff III', 'Web / UI Designer', 'Azure data Factory', 'Android Application developer']\n",
      "Length: 1018\n",
      "Categories (1017, object): [' SDE 2', '.', '..', '.7', ..., 'support escalation engineer', 'system engineer', 'system software engineer', 'technology analyst']\n"
     ]
    }
   ],
   "source": [
    "print(f\" Unique values in {i} are {scaler['job_position'].unique()}\")"
   ]
  },
  {
   "cell_type": "markdown",
   "metadata": {},
   "source": [
    "# Bivariate Analysis \n",
    "### Categorical variables"
   ]
  },
  {
   "cell_type": "code",
   "execution_count": 35,
   "metadata": {},
   "outputs": [],
   "source": [
    "def cat_bi_analysis(df,colname,depend_var,nrows=2,mcols=2,width=20,height=15):\n",
    "    fig,ax=plt.subplots(nrows,mcols,figsize=(width,height))\n",
    "    sns.set(style='white')\n",
    "    fig.set_facecolor(\"peachpuff\")\n",
    "    rows=0\n",
    "    string=\" based Distribution\"\n",
    "    for var in colname:\n",
    "        string= var + string \n",
    "        sns.countplot(data=df,x=depend_var, hue=var, palette=\"hls\",ax=ax[rows][0])\n",
    "        sns.countplot(data=df, x=var, hue=depend_var, palette=\"husl\",ax=ax[rows][1])\n",
    "        ax[rows][0].set_title(string, fontweight=\"bold\",fontsize=14)\n",
    "        ax[rows][1].set_title(string, fontweight=\"bold\",fontsize=14)\n",
    "        ax[rows][0].set_ylabel('count', fontweight=\"bold\",fontsize=14)\n",
    "        ax[rows][0].set_xlabel(var, fontweight=\"bold\",fontsize=14)\n",
    "        ax[rows][1].set_ylabel('count', fontweight=\"bold\",fontsize=14)\n",
    "        ax[rows][1].set_xlabel(var, fontweight=\"bold\",fontsize=14)\n",
    "        rows+=1\n",
    "        string = \" based Distribution\"\n",
    "    plt.show()  "
   ]
  },
  {
   "cell_type": "code",
   "execution_count": null,
   "metadata": {},
   "outputs": [],
   "source": [
    "cat_bi_analysis(scaler,col_data,'ctc',6,2,20,36)"
   ]
  },
  {
   "cell_type": "markdown",
   "metadata": {},
   "source": [
    "# Data Pre-processing:"
   ]
  },
  {
   "cell_type": "markdown",
   "metadata": {},
   "source": [
    "## Regex for cleaning company names"
   ]
  },
  {
   "cell_type": "code",
   "execution_count": 52,
   "metadata": {},
   "outputs": [
    {
     "data": {
      "text/plain": [
       "'[0-9]+Airtel[0-9]+X[0-9]+Labs'"
      ]
     },
     "execution_count": 52,
     "metadata": {},
     "output_type": "execute_result"
    }
   ],
   "source": [
    "scaler['company_hash']=re.sub('[^A-Za-z0-9]+','', scaler['company_hash'])"
   ]
  },
  {
   "cell_type": "code",
   "execution_count": null,
   "metadata": {},
   "outputs": [],
   "source": [
    "scalercopy=scaler.copy()"
   ]
  },
  {
   "cell_type": "markdown",
   "metadata": {},
   "source": [
    "# Missing values fill along with feature engineering columns"
   ]
  },
  {
   "cell_type": "code",
   "execution_count": null,
   "metadata": {},
   "outputs": [],
   "source": [
    "# Creating a dictionary named \"Email_dict\" so that we can apply the aggregate function on the new dataset \n",
    "# with feature engineered columns and discarding old columns and columns with  Unknown field\n",
    "\n",
    "Email_ID_dict = {\n",
    "    'email_hash' :'first',\n",
    "    'company_hash' :'first',\n",
    "    'orgyear' : 'first',\n",
    "    'ctc' :'last',\n",
    "    'job_position' :'first',\n",
    "    'ctc_updated_year' :'first',\n",
    "    'Years of Experience':'first'  \n",
    "}"
   ]
  },
  {
   "cell_type": "code",
   "execution_count": null,
   "metadata": {},
   "outputs": [],
   "source": [
    "Email_ID_dict_df=scaler.groupby('Driver_ID').agg(Email_ID_dict).reset_index(drop = True)\n",
    "Email_ID_dict"
   ]
  },
  {
   "cell_type": "markdown",
   "metadata": {},
   "source": [
    "## Mean/ KNN Imputation"
   ]
  },
  {
   "cell_type": "code",
   "execution_count": null,
   "metadata": {},
   "outputs": [],
   "source": [
    "from sklearn.impute import KNNImputer\n",
    "imputer = KNNImputer(n_neighbors=5, weights='uniform', metric='nan_euclidean')\n",
    "imputer.fit(Email_ID_dict)\n",
    "scalercopy=imputer.transform(Email_ID_dict)"
   ]
  },
  {
   "cell_type": "code",
   "execution_count": 30,
   "metadata": {},
   "outputs": [
    {
     "name": "stdout",
     "output_type": "stream",
     "text": [
      "<class 'pandas.core.frame.DataFrame'>\n",
      "RangeIndex: 205843 entries, 0 to 205842\n",
      "Data columns (total 7 columns):\n",
      " #   Column               Non-Null Count   Dtype   \n",
      "---  ------               --------------   -----   \n",
      " 0   company_hash         205799 non-null  category\n",
      " 1   email_hash           205843 non-null  category\n",
      " 2   orgyear              205757 non-null  float64 \n",
      " 3   ctc                  205843 non-null  int64   \n",
      " 4   job_position         153281 non-null  category\n",
      " 5   ctc_updated_year     205843 non-null  float64 \n",
      " 6   Years of Experience  205757 non-null  float64 \n",
      "dtypes: category(3), float64(3), int64(1)\n",
      "memory usage: 14.8 MB\n"
     ]
    }
   ],
   "source": [
    "Email_ID_dict.info()"
   ]
  },
  {
   "cell_type": "code",
   "execution_count": 31,
   "metadata": {},
   "outputs": [
    {
     "name": "stdout",
     "output_type": "stream",
     "text": [
      "Total records in our data =  205843 where missing values are as follows:\n"
     ]
    },
    {
     "data": {
      "text/html": [
       "<div>\n",
       "<style scoped>\n",
       "    .dataframe tbody tr th:only-of-type {\n",
       "        vertical-align: middle;\n",
       "    }\n",
       "\n",
       "    .dataframe tbody tr th {\n",
       "        vertical-align: top;\n",
       "    }\n",
       "\n",
       "    .dataframe thead th {\n",
       "        text-align: right;\n",
       "    }\n",
       "</style>\n",
       "<table border=\"1\" class=\"dataframe\">\n",
       "  <thead>\n",
       "    <tr style=\"text-align: right;\">\n",
       "      <th></th>\n",
       "      <th>Total Missing</th>\n",
       "      <th>In Percent</th>\n",
       "    </tr>\n",
       "  </thead>\n",
       "  <tbody>\n",
       "    <tr>\n",
       "      <th>job_position</th>\n",
       "      <td>52562</td>\n",
       "      <td>25.53</td>\n",
       "    </tr>\n",
       "    <tr>\n",
       "      <th>orgyear</th>\n",
       "      <td>86</td>\n",
       "      <td>0.04</td>\n",
       "    </tr>\n",
       "    <tr>\n",
       "      <th>Years of Experience</th>\n",
       "      <td>86</td>\n",
       "      <td>0.04</td>\n",
       "    </tr>\n",
       "    <tr>\n",
       "      <th>company_hash</th>\n",
       "      <td>44</td>\n",
       "      <td>0.02</td>\n",
       "    </tr>\n",
       "    <tr>\n",
       "      <th>email_hash</th>\n",
       "      <td>0</td>\n",
       "      <td>0.00</td>\n",
       "    </tr>\n",
       "    <tr>\n",
       "      <th>ctc</th>\n",
       "      <td>0</td>\n",
       "      <td>0.00</td>\n",
       "    </tr>\n",
       "    <tr>\n",
       "      <th>ctc_updated_year</th>\n",
       "      <td>0</td>\n",
       "      <td>0.00</td>\n",
       "    </tr>\n",
       "  </tbody>\n",
       "</table>\n",
       "</div>"
      ],
      "text/plain": [
       "                     Total Missing  In Percent\n",
       "job_position                 52562       25.53\n",
       "orgyear                         86        0.04\n",
       "Years of Experience             86        0.04\n",
       "company_hash                    44        0.02\n",
       "email_hash                       0        0.00\n",
       "ctc                              0        0.00\n",
       "ctc_updated_year                 0        0.00"
      ]
     },
     "execution_count": 31,
     "metadata": {},
     "output_type": "execute_result"
    }
   ],
   "source": [
    "missingValue(Email_ID_dict)"
   ]
  },
  {
   "cell_type": "code",
   "execution_count": 55,
   "metadata": {},
   "outputs": [
    {
     "data": {
      "text/html": [
       "<div>\n",
       "<style scoped>\n",
       "    .dataframe tbody tr th:only-of-type {\n",
       "        vertical-align: middle;\n",
       "    }\n",
       "\n",
       "    .dataframe tbody tr th {\n",
       "        vertical-align: top;\n",
       "    }\n",
       "\n",
       "    .dataframe thead th {\n",
       "        text-align: right;\n",
       "    }\n",
       "</style>\n",
       "<table border=\"1\" class=\"dataframe\">\n",
       "  <thead>\n",
       "    <tr style=\"text-align: right;\">\n",
       "      <th></th>\n",
       "      <th>orgyear</th>\n",
       "      <th>ctc</th>\n",
       "      <th>job_position</th>\n",
       "      <th>ctc_updated_year</th>\n",
       "      <th>Years of Experience</th>\n",
       "    </tr>\n",
       "  </thead>\n",
       "  <tbody>\n",
       "    <tr>\n",
       "      <th>0</th>\n",
       "      <td>2016.0</td>\n",
       "      <td>1100000</td>\n",
       "      <td>Other</td>\n",
       "      <td>2020.0</td>\n",
       "      <td>4.0</td>\n",
       "    </tr>\n",
       "    <tr>\n",
       "      <th>1</th>\n",
       "      <td>2018.0</td>\n",
       "      <td>449999</td>\n",
       "      <td>FullStack Engineer</td>\n",
       "      <td>2019.0</td>\n",
       "      <td>1.0</td>\n",
       "    </tr>\n",
       "    <tr>\n",
       "      <th>2</th>\n",
       "      <td>2015.0</td>\n",
       "      <td>2000000</td>\n",
       "      <td>Backend Engineer</td>\n",
       "      <td>2020.0</td>\n",
       "      <td>5.0</td>\n",
       "    </tr>\n",
       "    <tr>\n",
       "      <th>3</th>\n",
       "      <td>2017.0</td>\n",
       "      <td>700000</td>\n",
       "      <td>Backend Engineer</td>\n",
       "      <td>2019.0</td>\n",
       "      <td>2.0</td>\n",
       "    </tr>\n",
       "    <tr>\n",
       "      <th>4</th>\n",
       "      <td>2017.0</td>\n",
       "      <td>1400000</td>\n",
       "      <td>FullStack Engineer</td>\n",
       "      <td>2019.0</td>\n",
       "      <td>2.0</td>\n",
       "    </tr>\n",
       "    <tr>\n",
       "      <th>...</th>\n",
       "      <td>...</td>\n",
       "      <td>...</td>\n",
       "      <td>...</td>\n",
       "      <td>...</td>\n",
       "      <td>...</td>\n",
       "    </tr>\n",
       "    <tr>\n",
       "      <th>205838</th>\n",
       "      <td>2008.0</td>\n",
       "      <td>220000</td>\n",
       "      <td>NaN</td>\n",
       "      <td>2019.0</td>\n",
       "      <td>11.0</td>\n",
       "    </tr>\n",
       "    <tr>\n",
       "      <th>205839</th>\n",
       "      <td>2017.0</td>\n",
       "      <td>500000</td>\n",
       "      <td>NaN</td>\n",
       "      <td>2020.0</td>\n",
       "      <td>3.0</td>\n",
       "    </tr>\n",
       "    <tr>\n",
       "      <th>205840</th>\n",
       "      <td>2021.0</td>\n",
       "      <td>700000</td>\n",
       "      <td>NaN</td>\n",
       "      <td>2021.0</td>\n",
       "      <td>0.0</td>\n",
       "    </tr>\n",
       "    <tr>\n",
       "      <th>205841</th>\n",
       "      <td>2019.0</td>\n",
       "      <td>5100000</td>\n",
       "      <td>NaN</td>\n",
       "      <td>2019.0</td>\n",
       "      <td>0.0</td>\n",
       "    </tr>\n",
       "    <tr>\n",
       "      <th>205842</th>\n",
       "      <td>2014.0</td>\n",
       "      <td>1240000</td>\n",
       "      <td>NaN</td>\n",
       "      <td>2016.0</td>\n",
       "      <td>2.0</td>\n",
       "    </tr>\n",
       "  </tbody>\n",
       "</table>\n",
       "<p>205843 rows × 5 columns</p>\n",
       "</div>"
      ],
      "text/plain": [
       "        orgyear      ctc        job_position  ctc_updated_year  \\\n",
       "0        2016.0  1100000               Other            2020.0   \n",
       "1        2018.0   449999  FullStack Engineer            2019.0   \n",
       "2        2015.0  2000000    Backend Engineer            2020.0   \n",
       "3        2017.0   700000    Backend Engineer            2019.0   \n",
       "4        2017.0  1400000  FullStack Engineer            2019.0   \n",
       "...         ...      ...                 ...               ...   \n",
       "205838   2008.0   220000                 NaN            2019.0   \n",
       "205839   2017.0   500000                 NaN            2020.0   \n",
       "205840   2021.0   700000                 NaN            2021.0   \n",
       "205841   2019.0  5100000                 NaN            2019.0   \n",
       "205842   2014.0  1240000                 NaN            2016.0   \n",
       "\n",
       "        Years of Experience  \n",
       "0                       4.0  \n",
       "1                       1.0  \n",
       "2                       5.0  \n",
       "3                       2.0  \n",
       "4                       2.0  \n",
       "...                     ...  \n",
       "205838                 11.0  \n",
       "205839                  3.0  \n",
       "205840                  0.0  \n",
       "205841                  0.0  \n",
       "205842                  2.0  \n",
       "\n",
       "[205843 rows x 5 columns]"
      ]
     },
     "execution_count": 55,
     "metadata": {},
     "output_type": "execute_result"
    }
   ],
   "source": [
    "scalercopy"
   ]
  },
  {
   "cell_type": "code",
   "execution_count": null,
   "metadata": {},
   "outputs": [],
   "source": [
    "scalercopy=scalercopy.drop('company_hash',axis =1)\n",
    "scalercopy=scalercopy.drop('email_hash',axis =1)\n",
    "scalercopy=scalercopy.drop('job_position',axis =1)"
   ]
  },
  {
   "cell_type": "code",
   "execution_count": 59,
   "metadata": {},
   "outputs": [
    {
     "data": {
      "text/html": [
       "<div>\n",
       "<style scoped>\n",
       "    .dataframe tbody tr th:only-of-type {\n",
       "        vertical-align: middle;\n",
       "    }\n",
       "\n",
       "    .dataframe tbody tr th {\n",
       "        vertical-align: top;\n",
       "    }\n",
       "\n",
       "    .dataframe thead th {\n",
       "        text-align: right;\n",
       "    }\n",
       "</style>\n",
       "<table border=\"1\" class=\"dataframe\">\n",
       "  <thead>\n",
       "    <tr style=\"text-align: right;\">\n",
       "      <th></th>\n",
       "      <th>orgyear</th>\n",
       "      <th>ctc</th>\n",
       "      <th>ctc_updated_year</th>\n",
       "      <th>Years of Experience</th>\n",
       "    </tr>\n",
       "  </thead>\n",
       "  <tbody>\n",
       "    <tr>\n",
       "      <th>0</th>\n",
       "      <td>2016.0</td>\n",
       "      <td>1100000</td>\n",
       "      <td>2020.0</td>\n",
       "      <td>4.0</td>\n",
       "    </tr>\n",
       "    <tr>\n",
       "      <th>1</th>\n",
       "      <td>2018.0</td>\n",
       "      <td>449999</td>\n",
       "      <td>2019.0</td>\n",
       "      <td>1.0</td>\n",
       "    </tr>\n",
       "    <tr>\n",
       "      <th>2</th>\n",
       "      <td>2015.0</td>\n",
       "      <td>2000000</td>\n",
       "      <td>2020.0</td>\n",
       "      <td>5.0</td>\n",
       "    </tr>\n",
       "    <tr>\n",
       "      <th>3</th>\n",
       "      <td>2017.0</td>\n",
       "      <td>700000</td>\n",
       "      <td>2019.0</td>\n",
       "      <td>2.0</td>\n",
       "    </tr>\n",
       "    <tr>\n",
       "      <th>4</th>\n",
       "      <td>2017.0</td>\n",
       "      <td>1400000</td>\n",
       "      <td>2019.0</td>\n",
       "      <td>2.0</td>\n",
       "    </tr>\n",
       "  </tbody>\n",
       "</table>\n",
       "</div>"
      ],
      "text/plain": [
       "   orgyear      ctc  ctc_updated_year  Years of Experience\n",
       "0   2016.0  1100000            2020.0                  4.0\n",
       "1   2018.0   449999            2019.0                  1.0\n",
       "2   2015.0  2000000            2020.0                  5.0\n",
       "3   2017.0   700000            2019.0                  2.0\n",
       "4   2017.0  1400000            2019.0                  2.0"
      ]
     },
     "execution_count": 59,
     "metadata": {},
     "output_type": "execute_result"
    }
   ],
   "source": [
    "scalercopy.head()"
   ]
  },
  {
   "cell_type": "code",
   "execution_count": null,
   "metadata": {},
   "outputs": [],
   "source": [
    "# Correlation between numerical variables\n",
    "\n",
    "plt.figure(figsize=(10,5))\n",
    "sns.heatmap(Email_ID_dict.corr(method=\"pearson\"),annot=True)\n",
    "plt.yticks(rotation=360)\n",
    "plt.xticks(rotation=45)\n",
    "plt.show()"
   ]
  },
  {
   "cell_type": "markdown",
   "metadata": {},
   "source": [
    "## Standardization & Encoding"
   ]
  },
  {
   "cell_type": "code",
   "execution_count": 60,
   "metadata": {},
   "outputs": [],
   "source": [
    "from sklearn.preprocessing import MinMaxScaler\n",
    "\n",
    "scale = MinMaxScaler()\n",
    "scale.fit(scalercopy)\n",
    "X=scale.transform(scalercopy)"
   ]
  },
  {
   "cell_type": "markdown",
   "metadata": {},
   "source": [
    "# Manual Clustering"
   ]
  },
  {
   "cell_type": "code",
   "execution_count": 32,
   "metadata": {},
   "outputs": [
    {
     "data": {
      "text/html": [
       "<div>\n",
       "<style scoped>\n",
       "    .dataframe tbody tr th:only-of-type {\n",
       "        vertical-align: middle;\n",
       "    }\n",
       "\n",
       "    .dataframe tbody tr th {\n",
       "        vertical-align: top;\n",
       "    }\n",
       "\n",
       "    .dataframe thead th {\n",
       "        text-align: right;\n",
       "    }\n",
       "</style>\n",
       "<table border=\"1\" class=\"dataframe\">\n",
       "  <thead>\n",
       "    <tr style=\"text-align: right;\">\n",
       "      <th></th>\n",
       "      <th>count</th>\n",
       "      <th>mean</th>\n",
       "      <th>std</th>\n",
       "      <th>min</th>\n",
       "      <th>25%</th>\n",
       "      <th>50%</th>\n",
       "      <th>75%</th>\n",
       "      <th>max</th>\n",
       "    </tr>\n",
       "    <tr>\n",
       "      <th>company_hash</th>\n",
       "      <th></th>\n",
       "      <th></th>\n",
       "      <th></th>\n",
       "      <th></th>\n",
       "      <th></th>\n",
       "      <th></th>\n",
       "      <th></th>\n",
       "      <th></th>\n",
       "    </tr>\n",
       "  </thead>\n",
       "  <tbody>\n",
       "    <tr>\n",
       "      <th>0</th>\n",
       "      <td>2.0</td>\n",
       "      <td>100000.0</td>\n",
       "      <td>0.000000</td>\n",
       "      <td>100000.0</td>\n",
       "      <td>100000.0</td>\n",
       "      <td>100000.0</td>\n",
       "      <td>100000.0</td>\n",
       "      <td>100000.0</td>\n",
       "    </tr>\n",
       "    <tr>\n",
       "      <th>0000</th>\n",
       "      <td>1.0</td>\n",
       "      <td>300000.0</td>\n",
       "      <td>NaN</td>\n",
       "      <td>300000.0</td>\n",
       "      <td>300000.0</td>\n",
       "      <td>300000.0</td>\n",
       "      <td>300000.0</td>\n",
       "      <td>300000.0</td>\n",
       "    </tr>\n",
       "    <tr>\n",
       "      <th>01 ojztqsj</th>\n",
       "      <td>2.0</td>\n",
       "      <td>550000.0</td>\n",
       "      <td>395979.797464</td>\n",
       "      <td>270000.0</td>\n",
       "      <td>410000.0</td>\n",
       "      <td>550000.0</td>\n",
       "      <td>690000.0</td>\n",
       "      <td>830000.0</td>\n",
       "    </tr>\n",
       "    <tr>\n",
       "      <th>05mz exzytvrny uqxcvnt rxbxnta</th>\n",
       "      <td>2.0</td>\n",
       "      <td>1100000.0</td>\n",
       "      <td>0.000000</td>\n",
       "      <td>1100000.0</td>\n",
       "      <td>1100000.0</td>\n",
       "      <td>1100000.0</td>\n",
       "      <td>1100000.0</td>\n",
       "      <td>1100000.0</td>\n",
       "    </tr>\n",
       "    <tr>\n",
       "      <th>1</th>\n",
       "      <td>2.0</td>\n",
       "      <td>175000.0</td>\n",
       "      <td>106066.017178</td>\n",
       "      <td>100000.0</td>\n",
       "      <td>137500.0</td>\n",
       "      <td>175000.0</td>\n",
       "      <td>212500.0</td>\n",
       "      <td>250000.0</td>\n",
       "    </tr>\n",
       "    <tr>\n",
       "      <th>...</th>\n",
       "      <td>...</td>\n",
       "      <td>...</td>\n",
       "      <td>...</td>\n",
       "      <td>...</td>\n",
       "      <td>...</td>\n",
       "      <td>...</td>\n",
       "      <td>...</td>\n",
       "      <td>...</td>\n",
       "    </tr>\n",
       "    <tr>\n",
       "      <th>zyvzwt wgzohrnxzs tzsxzttqo</th>\n",
       "      <td>1.0</td>\n",
       "      <td>940000.0</td>\n",
       "      <td>NaN</td>\n",
       "      <td>940000.0</td>\n",
       "      <td>940000.0</td>\n",
       "      <td>940000.0</td>\n",
       "      <td>940000.0</td>\n",
       "      <td>940000.0</td>\n",
       "    </tr>\n",
       "    <tr>\n",
       "      <th>zz</th>\n",
       "      <td>2.0</td>\n",
       "      <td>935000.0</td>\n",
       "      <td>615182.899632</td>\n",
       "      <td>500000.0</td>\n",
       "      <td>717500.0</td>\n",
       "      <td>935000.0</td>\n",
       "      <td>1152500.0</td>\n",
       "      <td>1370000.0</td>\n",
       "    </tr>\n",
       "    <tr>\n",
       "      <th>zzb ztdnstz vacxogqj ucn rna</th>\n",
       "      <td>2.0</td>\n",
       "      <td>600000.0</td>\n",
       "      <td>0.000000</td>\n",
       "      <td>600000.0</td>\n",
       "      <td>600000.0</td>\n",
       "      <td>600000.0</td>\n",
       "      <td>600000.0</td>\n",
       "      <td>600000.0</td>\n",
       "    </tr>\n",
       "    <tr>\n",
       "      <th>zzgato</th>\n",
       "      <td>1.0</td>\n",
       "      <td>130000.0</td>\n",
       "      <td>NaN</td>\n",
       "      <td>130000.0</td>\n",
       "      <td>130000.0</td>\n",
       "      <td>130000.0</td>\n",
       "      <td>130000.0</td>\n",
       "      <td>130000.0</td>\n",
       "    </tr>\n",
       "    <tr>\n",
       "      <th>zzzbzb</th>\n",
       "      <td>1.0</td>\n",
       "      <td>720000.0</td>\n",
       "      <td>NaN</td>\n",
       "      <td>720000.0</td>\n",
       "      <td>720000.0</td>\n",
       "      <td>720000.0</td>\n",
       "      <td>720000.0</td>\n",
       "      <td>720000.0</td>\n",
       "    </tr>\n",
       "  </tbody>\n",
       "</table>\n",
       "<p>37299 rows × 8 columns</p>\n",
       "</div>"
      ],
      "text/plain": [
       "                                count       mean            std        min  \\\n",
       "company_hash                                                                 \n",
       "0                                 2.0   100000.0       0.000000   100000.0   \n",
       "0000                              1.0   300000.0            NaN   300000.0   \n",
       "01 ojztqsj                        2.0   550000.0  395979.797464   270000.0   \n",
       "05mz exzytvrny uqxcvnt rxbxnta    2.0  1100000.0       0.000000  1100000.0   \n",
       "1                                 2.0   175000.0  106066.017178   100000.0   \n",
       "...                               ...        ...            ...        ...   \n",
       "zyvzwt wgzohrnxzs tzsxzttqo       1.0   940000.0            NaN   940000.0   \n",
       "zz                                2.0   935000.0  615182.899632   500000.0   \n",
       "zzb ztdnstz vacxogqj ucn rna      2.0   600000.0       0.000000   600000.0   \n",
       "zzgato                            1.0   130000.0            NaN   130000.0   \n",
       "zzzbzb                            1.0   720000.0            NaN   720000.0   \n",
       "\n",
       "                                      25%        50%        75%        max  \n",
       "company_hash                                                                \n",
       "0                                100000.0   100000.0   100000.0   100000.0  \n",
       "0000                             300000.0   300000.0   300000.0   300000.0  \n",
       "01 ojztqsj                       410000.0   550000.0   690000.0   830000.0  \n",
       "05mz exzytvrny uqxcvnt rxbxnta  1100000.0  1100000.0  1100000.0  1100000.0  \n",
       "1                                137500.0   175000.0   212500.0   250000.0  \n",
       "...                                   ...        ...        ...        ...  \n",
       "zyvzwt wgzohrnxzs tzsxzttqo      940000.0   940000.0   940000.0   940000.0  \n",
       "zz                               717500.0   935000.0  1152500.0  1370000.0  \n",
       "zzb ztdnstz vacxogqj ucn rna     600000.0   600000.0   600000.0   600000.0  \n",
       "zzgato                           130000.0   130000.0   130000.0   130000.0  \n",
       "zzzbzb                           720000.0   720000.0   720000.0   720000.0  \n",
       "\n",
       "[37299 rows x 8 columns]"
      ]
     },
     "execution_count": 32,
     "metadata": {},
     "output_type": "execute_result"
    }
   ],
   "source": [
    "scaler.groupby(['company_hash'])['ctc'].describe()"
   ]
  },
  {
   "cell_type": "code",
   "execution_count": 34,
   "metadata": {},
   "outputs": [
    {
     "data": {
      "text/html": [
       "<div>\n",
       "<style scoped>\n",
       "    .dataframe tbody tr th:only-of-type {\n",
       "        vertical-align: middle;\n",
       "    }\n",
       "\n",
       "    .dataframe tbody tr th {\n",
       "        vertical-align: top;\n",
       "    }\n",
       "\n",
       "    .dataframe thead th {\n",
       "        text-align: right;\n",
       "    }\n",
       "</style>\n",
       "<table border=\"1\" class=\"dataframe\">\n",
       "  <thead>\n",
       "    <tr style=\"text-align: right;\">\n",
       "      <th></th>\n",
       "      <th></th>\n",
       "      <th></th>\n",
       "      <th>count</th>\n",
       "      <th>mean</th>\n",
       "      <th>std</th>\n",
       "      <th>min</th>\n",
       "      <th>25%</th>\n",
       "      <th>50%</th>\n",
       "      <th>75%</th>\n",
       "      <th>max</th>\n",
       "    </tr>\n",
       "    <tr>\n",
       "      <th>company_hash</th>\n",
       "      <th>job_position</th>\n",
       "      <th>Years of Experience</th>\n",
       "      <th></th>\n",
       "      <th></th>\n",
       "      <th></th>\n",
       "      <th></th>\n",
       "      <th></th>\n",
       "      <th></th>\n",
       "      <th></th>\n",
       "      <th></th>\n",
       "    </tr>\n",
       "  </thead>\n",
       "  <tbody>\n",
       "    <tr>\n",
       "      <th>0</th>\n",
       "      <th>Other</th>\n",
       "      <th>0.0</th>\n",
       "      <td>1.0</td>\n",
       "      <td>100000.0</td>\n",
       "      <td>NaN</td>\n",
       "      <td>100000.0</td>\n",
       "      <td>100000.0</td>\n",
       "      <td>100000.0</td>\n",
       "      <td>100000.0</td>\n",
       "      <td>100000.0</td>\n",
       "    </tr>\n",
       "    <tr>\n",
       "      <th>0000</th>\n",
       "      <th>Other</th>\n",
       "      <th>3.0</th>\n",
       "      <td>1.0</td>\n",
       "      <td>300000.0</td>\n",
       "      <td>NaN</td>\n",
       "      <td>300000.0</td>\n",
       "      <td>300000.0</td>\n",
       "      <td>300000.0</td>\n",
       "      <td>300000.0</td>\n",
       "      <td>300000.0</td>\n",
       "    </tr>\n",
       "    <tr>\n",
       "      <th rowspan=\"2\" valign=\"top\">01 ojztqsj</th>\n",
       "      <th>Android Engineer</th>\n",
       "      <th>3.0</th>\n",
       "      <td>1.0</td>\n",
       "      <td>270000.0</td>\n",
       "      <td>NaN</td>\n",
       "      <td>270000.0</td>\n",
       "      <td>270000.0</td>\n",
       "      <td>270000.0</td>\n",
       "      <td>270000.0</td>\n",
       "      <td>270000.0</td>\n",
       "    </tr>\n",
       "    <tr>\n",
       "      <th>Frontend Engineer</th>\n",
       "      <th>8.0</th>\n",
       "      <td>1.0</td>\n",
       "      <td>830000.0</td>\n",
       "      <td>NaN</td>\n",
       "      <td>830000.0</td>\n",
       "      <td>830000.0</td>\n",
       "      <td>830000.0</td>\n",
       "      <td>830000.0</td>\n",
       "      <td>830000.0</td>\n",
       "    </tr>\n",
       "    <tr>\n",
       "      <th>05mz exzytvrny uqxcvnt rxbxnta</th>\n",
       "      <th>Backend Engineer</th>\n",
       "      <th>2.0</th>\n",
       "      <td>1.0</td>\n",
       "      <td>1100000.0</td>\n",
       "      <td>NaN</td>\n",
       "      <td>1100000.0</td>\n",
       "      <td>1100000.0</td>\n",
       "      <td>1100000.0</td>\n",
       "      <td>1100000.0</td>\n",
       "      <td>1100000.0</td>\n",
       "    </tr>\n",
       "    <tr>\n",
       "      <th>...</th>\n",
       "      <th>...</th>\n",
       "      <th>...</th>\n",
       "      <td>...</td>\n",
       "      <td>...</td>\n",
       "      <td>...</td>\n",
       "      <td>...</td>\n",
       "      <td>...</td>\n",
       "      <td>...</td>\n",
       "      <td>...</td>\n",
       "      <td>...</td>\n",
       "    </tr>\n",
       "    <tr>\n",
       "      <th>zyuw rxbxnta</th>\n",
       "      <th>Frontend Engineer</th>\n",
       "      <th>13.0</th>\n",
       "      <td>1.0</td>\n",
       "      <td>2400000.0</td>\n",
       "      <td>NaN</td>\n",
       "      <td>2400000.0</td>\n",
       "      <td>2400000.0</td>\n",
       "      <td>2400000.0</td>\n",
       "      <td>2400000.0</td>\n",
       "      <td>2400000.0</td>\n",
       "    </tr>\n",
       "    <tr>\n",
       "      <th>zyvzwt wgzohrnxzs tzsxzttqo</th>\n",
       "      <th>Frontend Engineer</th>\n",
       "      <th>7.0</th>\n",
       "      <td>1.0</td>\n",
       "      <td>940000.0</td>\n",
       "      <td>NaN</td>\n",
       "      <td>940000.0</td>\n",
       "      <td>940000.0</td>\n",
       "      <td>940000.0</td>\n",
       "      <td>940000.0</td>\n",
       "      <td>940000.0</td>\n",
       "    </tr>\n",
       "    <tr>\n",
       "      <th>zz</th>\n",
       "      <th>Other</th>\n",
       "      <th>7.0</th>\n",
       "      <td>1.0</td>\n",
       "      <td>1370000.0</td>\n",
       "      <td>NaN</td>\n",
       "      <td>1370000.0</td>\n",
       "      <td>1370000.0</td>\n",
       "      <td>1370000.0</td>\n",
       "      <td>1370000.0</td>\n",
       "      <td>1370000.0</td>\n",
       "    </tr>\n",
       "    <tr>\n",
       "      <th>zzb ztdnstz vacxogqj ucn rna</th>\n",
       "      <th>FullStack Engineer</th>\n",
       "      <th>4.0</th>\n",
       "      <td>1.0</td>\n",
       "      <td>600000.0</td>\n",
       "      <td>NaN</td>\n",
       "      <td>600000.0</td>\n",
       "      <td>600000.0</td>\n",
       "      <td>600000.0</td>\n",
       "      <td>600000.0</td>\n",
       "      <td>600000.0</td>\n",
       "    </tr>\n",
       "    <tr>\n",
       "      <th>zzzbzb</th>\n",
       "      <th>Other</th>\n",
       "      <th>30.0</th>\n",
       "      <td>1.0</td>\n",
       "      <td>720000.0</td>\n",
       "      <td>NaN</td>\n",
       "      <td>720000.0</td>\n",
       "      <td>720000.0</td>\n",
       "      <td>720000.0</td>\n",
       "      <td>720000.0</td>\n",
       "      <td>720000.0</td>\n",
       "    </tr>\n",
       "  </tbody>\n",
       "</table>\n",
       "<p>93576 rows × 8 columns</p>\n",
       "</div>"
      ],
      "text/plain": [
       "                                                                       count  \\\n",
       "company_hash                   job_position       Years of Experience          \n",
       "0                              Other              0.0                    1.0   \n",
       "0000                           Other              3.0                    1.0   \n",
       "01 ojztqsj                     Android Engineer   3.0                    1.0   \n",
       "                               Frontend Engineer  8.0                    1.0   \n",
       "05mz exzytvrny uqxcvnt rxbxnta Backend Engineer   2.0                    1.0   \n",
       "...                                                                      ...   \n",
       "zyuw rxbxnta                   Frontend Engineer  13.0                   1.0   \n",
       "zyvzwt wgzohrnxzs tzsxzttqo    Frontend Engineer  7.0                    1.0   \n",
       "zz                             Other              7.0                    1.0   \n",
       "zzb ztdnstz vacxogqj ucn rna   FullStack Engineer 4.0                    1.0   \n",
       "zzzbzb                         Other              30.0                   1.0   \n",
       "\n",
       "                                                                            mean  \\\n",
       "company_hash                   job_position       Years of Experience              \n",
       "0                              Other              0.0                   100000.0   \n",
       "0000                           Other              3.0                   300000.0   \n",
       "01 ojztqsj                     Android Engineer   3.0                   270000.0   \n",
       "                               Frontend Engineer  8.0                   830000.0   \n",
       "05mz exzytvrny uqxcvnt rxbxnta Backend Engineer   2.0                  1100000.0   \n",
       "...                                                                          ...   \n",
       "zyuw rxbxnta                   Frontend Engineer  13.0                 2400000.0   \n",
       "zyvzwt wgzohrnxzs tzsxzttqo    Frontend Engineer  7.0                   940000.0   \n",
       "zz                             Other              7.0                  1370000.0   \n",
       "zzb ztdnstz vacxogqj ucn rna   FullStack Engineer 4.0                   600000.0   \n",
       "zzzbzb                         Other              30.0                  720000.0   \n",
       "\n",
       "                                                                       std  \\\n",
       "company_hash                   job_position       Years of Experience        \n",
       "0                              Other              0.0                  NaN   \n",
       "0000                           Other              3.0                  NaN   \n",
       "01 ojztqsj                     Android Engineer   3.0                  NaN   \n",
       "                               Frontend Engineer  8.0                  NaN   \n",
       "05mz exzytvrny uqxcvnt rxbxnta Backend Engineer   2.0                  NaN   \n",
       "...                                                                    ...   \n",
       "zyuw rxbxnta                   Frontend Engineer  13.0                 NaN   \n",
       "zyvzwt wgzohrnxzs tzsxzttqo    Frontend Engineer  7.0                  NaN   \n",
       "zz                             Other              7.0                  NaN   \n",
       "zzb ztdnstz vacxogqj ucn rna   FullStack Engineer 4.0                  NaN   \n",
       "zzzbzb                         Other              30.0                 NaN   \n",
       "\n",
       "                                                                             min  \\\n",
       "company_hash                   job_position       Years of Experience              \n",
       "0                              Other              0.0                   100000.0   \n",
       "0000                           Other              3.0                   300000.0   \n",
       "01 ojztqsj                     Android Engineer   3.0                   270000.0   \n",
       "                               Frontend Engineer  8.0                   830000.0   \n",
       "05mz exzytvrny uqxcvnt rxbxnta Backend Engineer   2.0                  1100000.0   \n",
       "...                                                                          ...   \n",
       "zyuw rxbxnta                   Frontend Engineer  13.0                 2400000.0   \n",
       "zyvzwt wgzohrnxzs tzsxzttqo    Frontend Engineer  7.0                   940000.0   \n",
       "zz                             Other              7.0                  1370000.0   \n",
       "zzb ztdnstz vacxogqj ucn rna   FullStack Engineer 4.0                   600000.0   \n",
       "zzzbzb                         Other              30.0                  720000.0   \n",
       "\n",
       "                                                                             25%  \\\n",
       "company_hash                   job_position       Years of Experience              \n",
       "0                              Other              0.0                   100000.0   \n",
       "0000                           Other              3.0                   300000.0   \n",
       "01 ojztqsj                     Android Engineer   3.0                   270000.0   \n",
       "                               Frontend Engineer  8.0                   830000.0   \n",
       "05mz exzytvrny uqxcvnt rxbxnta Backend Engineer   2.0                  1100000.0   \n",
       "...                                                                          ...   \n",
       "zyuw rxbxnta                   Frontend Engineer  13.0                 2400000.0   \n",
       "zyvzwt wgzohrnxzs tzsxzttqo    Frontend Engineer  7.0                   940000.0   \n",
       "zz                             Other              7.0                  1370000.0   \n",
       "zzb ztdnstz vacxogqj ucn rna   FullStack Engineer 4.0                   600000.0   \n",
       "zzzbzb                         Other              30.0                  720000.0   \n",
       "\n",
       "                                                                             50%  \\\n",
       "company_hash                   job_position       Years of Experience              \n",
       "0                              Other              0.0                   100000.0   \n",
       "0000                           Other              3.0                   300000.0   \n",
       "01 ojztqsj                     Android Engineer   3.0                   270000.0   \n",
       "                               Frontend Engineer  8.0                   830000.0   \n",
       "05mz exzytvrny uqxcvnt rxbxnta Backend Engineer   2.0                  1100000.0   \n",
       "...                                                                          ...   \n",
       "zyuw rxbxnta                   Frontend Engineer  13.0                 2400000.0   \n",
       "zyvzwt wgzohrnxzs tzsxzttqo    Frontend Engineer  7.0                   940000.0   \n",
       "zz                             Other              7.0                  1370000.0   \n",
       "zzb ztdnstz vacxogqj ucn rna   FullStack Engineer 4.0                   600000.0   \n",
       "zzzbzb                         Other              30.0                  720000.0   \n",
       "\n",
       "                                                                             75%  \\\n",
       "company_hash                   job_position       Years of Experience              \n",
       "0                              Other              0.0                   100000.0   \n",
       "0000                           Other              3.0                   300000.0   \n",
       "01 ojztqsj                     Android Engineer   3.0                   270000.0   \n",
       "                               Frontend Engineer  8.0                   830000.0   \n",
       "05mz exzytvrny uqxcvnt rxbxnta Backend Engineer   2.0                  1100000.0   \n",
       "...                                                                          ...   \n",
       "zyuw rxbxnta                   Frontend Engineer  13.0                 2400000.0   \n",
       "zyvzwt wgzohrnxzs tzsxzttqo    Frontend Engineer  7.0                   940000.0   \n",
       "zz                             Other              7.0                  1370000.0   \n",
       "zzb ztdnstz vacxogqj ucn rna   FullStack Engineer 4.0                   600000.0   \n",
       "zzzbzb                         Other              30.0                  720000.0   \n",
       "\n",
       "                                                                             max  \n",
       "company_hash                   job_position       Years of Experience             \n",
       "0                              Other              0.0                   100000.0  \n",
       "0000                           Other              3.0                   300000.0  \n",
       "01 ojztqsj                     Android Engineer   3.0                   270000.0  \n",
       "                               Frontend Engineer  8.0                   830000.0  \n",
       "05mz exzytvrny uqxcvnt rxbxnta Backend Engineer   2.0                  1100000.0  \n",
       "...                                                                          ...  \n",
       "zyuw rxbxnta                   Frontend Engineer  13.0                 2400000.0  \n",
       "zyvzwt wgzohrnxzs tzsxzttqo    Frontend Engineer  7.0                   940000.0  \n",
       "zz                             Other              7.0                  1370000.0  \n",
       "zzb ztdnstz vacxogqj ucn rna   FullStack Engineer 4.0                   600000.0  \n",
       "zzzbzb                         Other              30.0                  720000.0  \n",
       "\n",
       "[93576 rows x 8 columns]"
      ]
     },
     "execution_count": 34,
     "metadata": {},
     "output_type": "execute_result"
    }
   ],
   "source": [
    "scaler.groupby(['company_hash','job_position','Years of Experience'])['ctc'].describe()"
   ]
  },
  {
   "cell_type": "markdown",
   "metadata": {},
   "source": [
    "#  K- means clustering"
   ]
  },
  {
   "cell_type": "code",
   "execution_count": 66,
   "metadata": {},
   "outputs": [],
   "source": [
    "#Perform the k-means algorithm to cluster the points\n",
    "def k_means(points, centroids):\n",
    "  groups = [[] for i in range(len(centroids))]\n",
    "  for pnt in points:\n",
    "    \n",
    "    #tmp is a list to store the distance of points from each centroid. tmp[j] is the distance of jth centroid from pnt\n",
    "    tmp = [0]*len(centroids)\n",
    "    for i,centroid in enumerate(centroids):\n",
    "      tmp[i] = calc_dist(pnt, centroid)\n",
    "\n",
    "    #calculate the minimum distance from a centroid from all the centroid distances\n",
    "    min_d = min(tmp)\n",
    "    group_id = tmp.index(min_d)\n",
    "\n",
    "    #store the point into the list of that nearest centroid\n",
    "    groups[group_id].append(pnt)\n",
    "\n",
    "  new_centroid = []\n",
    "  #update the centroids of each cluster\n",
    "  for lst in groups:\n",
    "    #update the centroid\n",
    "    new_centroid.append(upd_centroid(lst))\n",
    "  return new_centroid"
   ]
  },
  {
   "cell_type": "code",
   "execution_count": null,
   "metadata": {},
   "outputs": [],
   "source": [
    "from sklearn.cluster import KMeans\n",
    "\n",
    "k = 4 ## arbitrary value\n",
    "kmeans = KMeans(n_clusters=k)\n",
    "y_pred = kmeans.fit_predict(scalercopy)"
   ]
  },
  {
   "cell_type": "code",
   "execution_count": null,
   "metadata": {},
   "outputs": [],
   "source": [
    "clusters['label'] = kmeans.labels_\n",
    "\n",
    "plt.scatter(clusters['n_clicks'], clusters['amount_spent'], c=clusters['label'], )\n",
    "plt.scatter(kmeans.cluster_centers_[:, 0], kmeans.cluster_centers_[:, 2], color=\"red\", marker=\"X\", s=100)\n",
    "plt.xlabel('n_clicks')\n",
    "plt.ylabel('amount_spent');"
   ]
  },
  {
   "cell_type": "markdown",
   "metadata": {},
   "source": [
    "# Elbow method"
   ]
  },
  {
   "cell_type": "code",
   "execution_count": null,
   "metadata": {},
   "outputs": [],
   "source": [
    "# Inertia = Within Cluster Sum of Squares\n",
    "kmeans_per_k = [KMeans(n_clusters=k, random_state=42).fit(X)\n",
    "                for k in range(1, 10)]\n",
    "\n",
    "inertias = [model.inertia_ for model in kmeans_per_k]"
   ]
  },
  {
   "cell_type": "code",
   "execution_count": null,
   "metadata": {},
   "outputs": [],
   "source": [
    "plt.figure(figsize=(12, 8))\n",
    "plt.plot(range(1, 10), inertias, \"bo-\")\n",
    "plt.xlabel(\"$k$\", fontsize=14)\n",
    "plt.ylabel(\"Inertia\", fontsize=14)\n",
    "plt.annotate('Elbow',\n",
    "             xy=(3, inertias[2]),\n",
    "             xytext=(0.55, 0.55),\n",
    "             textcoords='figure fraction',\n",
    "             fontsize=16,\n",
    "             arrowprops=dict(facecolor='black', shrink=0.1)\n",
    "            )\n",
    "plt.show()"
   ]
  },
  {
   "cell_type": "markdown",
   "metadata": {},
   "source": [
    "# Silhouette Score\n",
    "\n",
    "The silhouette score of a point measures how close that point lies to its nearest neighbor points, across all clusters.\n",
    "\n",
    "It provides information about clustering quality which can be used to determine whether further refinement by clustering should be performed on the current clustering.\n",
    "\n",
    "An instance’s silhouette coefficient is equal to  (𝑏–𝑎)𝑚𝑎𝑥(𝑎,𝑏) , where;\n",
    "\n",
    "𝑎  is the the mean intra-cluster distance (i.e., mean distance to the other instances in the same cluster)\n",
    "\n",
    "𝑏  is the nearest mean inter-cluster distance (i.e., the mean distance to the instances of the next closest cluster). It is defined such that the instance’s own cluster is excluding.\n",
    "\n",
    "The range of Silhouette score is [-1, 1].\n",
    "\n",
    "Score is  1  when  𝑏>𝑎  and  𝑎=0 \n",
    "implying that the points in the same cluster are very close.\n",
    "In this case the points within the same cluster are very close whereas the points in the other clusters are at some distance.\n",
    "\n",
    "Score is  −1  when  𝑎>𝑏  and  𝑏=0 \n",
    "In this case the points from the same cluster of the current instance are at some distance but the points from the other clusters are overlapping with the current instance.\n",
    "\n",
    "Ideally we want our Silhouette score to be closer to  1 , because we do want that our inter-cluster distances should be greater than intra-cluster distances.\n",
    "\n",
    "This is a more precise alternative to Inertia (within cluster sum of squares (also called SSE)) and Elbow curve!\n",
    "\n",
    "A more precise approach (but also more computationally expensive) is to use the silhouette score, which is the mean silhouette coefficient over all the instances.\n",
    "\n",
    "Interpreting Silhouette scores\n",
    "A coefficient close to  +1  means that the instance is well inside its own cluster and far from other clusters,\n",
    "\n",
    "While a coefficient close to  0  means that it is close to a cluster boundary,\n",
    "\n",
    "A coefficient close to  –1  means that the instance may have been assigned to the wrong cluster."
   ]
  },
  {
   "cell_type": "code",
   "execution_count": null,
   "metadata": {},
   "outputs": [],
   "source": [
    "from sklearn.metrics import silhouette_score\n",
    "\n",
    "## silhouette score for 4 clusters\n",
    "silhouette_score(X, kmeans.labels_)"
   ]
  },
  {
   "cell_type": "code",
   "execution_count": null,
   "metadata": {},
   "outputs": [],
   "source": [
    "## plot for different values of K\n",
    "silhouette_scores = [silhouette_score(X, model.labels_)\n",
    "                     for model in kmeans_per_k[1:]]"
   ]
  },
  {
   "cell_type": "code",
   "execution_count": null,
   "metadata": {},
   "outputs": [],
   "source": [
    "plt.figure(figsize=(10, 6))\n",
    "plt.plot(range(2, 10), silhouette_scores, \"bo-\")\n",
    "plt.xlabel(\"$k$\", fontsize=14)\n",
    "plt.ylabel(\"Silhouette score\", fontsize=14)\n",
    "plt.show()"
   ]
  },
  {
   "cell_type": "markdown",
   "metadata": {},
   "source": [
    "# Hierarchical Clustering"
   ]
  },
  {
   "cell_type": "code",
   "execution_count": null,
   "metadata": {},
   "outputs": [],
   "source": [
    "scaled_df = pd.DataFrame(X, columns=df_stocks.columns, index=df_stocks.index)"
   ]
  },
  {
   "cell_type": "code",
   "execution_count": null,
   "metadata": {},
   "outputs": [],
   "source": [
    "# import hierarchical clustering libraries\n",
    "import scipy.cluster.hierarchy as sch\n",
    "\n",
    "# Refer https://docs.scipy.org/doc/scipy/reference/generated/scipy.cluster.hierarchy.linkage.html#scipy.cluster.hierarchy.linkage\n",
    "Z = sch.linkage(scaled_df, method='ward') #linkage = ward"
   ]
  },
  {
   "cell_type": "code",
   "execution_count": null,
   "metadata": {},
   "outputs": [],
   "source": [
    "fig, ax = plt.subplots(figsize=(20, 12))\n",
    "sch.dendrogram(Z, labels=scaled_df.index, ax=ax, color_threshold=2)\n",
    "plt.xticks(rotation=90)\n",
    "ax.set_ylabel('distance')"
   ]
  },
  {
   "cell_type": "markdown",
   "metadata": {},
   "source": [
    "# Recommendations:"
   ]
  },
  {
   "cell_type": "markdown",
   "metadata": {},
   "source": [
    "- Kindly Focus on the above hashed best companies and job positions to work. \n",
    "- The Hierarchical model clusters them on the basis of their job profile, company, and other features. "
   ]
  }
 ],
 "metadata": {
  "kernelspec": {
   "display_name": "Python 3",
   "language": "python",
   "name": "python3"
  }
 },
 "nbformat": 4,
 "nbformat_minor": 4
}
